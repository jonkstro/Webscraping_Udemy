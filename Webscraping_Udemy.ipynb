{
  "nbformat": 4,
  "nbformat_minor": 0,
  "metadata": {
    "colab": {
      "name": "Webscraping_Udemy.ipynb",
      "provenance": [],
      "collapsed_sections": [],
      "include_colab_link": true
    },
    "kernelspec": {
      "name": "python3",
      "display_name": "Python 3"
    },
    "language_info": {
      "name": "python"
    }
  },
  "cells": [
    {
      "cell_type": "markdown",
      "metadata": {
        "id": "view-in-github",
        "colab_type": "text"
      },
      "source": [
        "<a href=\"https://colab.research.google.com/github/jonkstro/Webscraping_Udemy/blob/main/Webscraping_Udemy.ipynb\" target=\"_parent\"><img src=\"https://colab.research.google.com/assets/colab-badge.svg\" alt=\"Open In Colab\"/></a>"
      ]
    },
    {
      "cell_type": "markdown",
      "source": [
        "# REALIZAR WEB SCRAPING DOS CURSOS DE PYTHON DA UDEMY"
      ],
      "metadata": {
        "id": "lYBTHk36hoVx"
      }
    },
    {
      "cell_type": "markdown",
      "source": [
        "##Importar as bibliotecas"
      ],
      "metadata": {
        "id": "74ueZOQfh1BP"
      }
    },
    {
      "cell_type": "code",
      "execution_count": null,
      "metadata": {
        "id": "fu-oclfidtKx"
      },
      "outputs": [],
      "source": [
        "cd /content/drive/MyDrive/Colab Notebooks/Webscraping_Udemy\n"
      ]
    },
    {
      "cell_type": "code",
      "source": [
        "# importar os pacotes do webscraping\n",
        "\n",
        "from bs4 import BeautifulSoup\n",
        "import requests\n",
        "import time\n",
        "import random\n",
        "import pandas as pd\n",
        "from datetime import datetime"
      ],
      "metadata": {
        "id": "OHQdDSDPiWRk"
      },
      "execution_count": null,
      "outputs": []
    },
    {
      "cell_type": "markdown",
      "source": [
        "Os códigos abaixo são para poder criar as variáveis de login, senha, local do trabalho e o cargo."
      ],
      "metadata": {
        "id": "2hFvLHLSOq1e"
      }
    },
    {
      "cell_type": "code",
      "source": [
        "s = requests.Session()\n",
        "cookies = s.get('https://www.udemy.com').cookies\n",
        "headers={\"Referer\": \"https://www.udemy.com/courses/search/?q=python&skip_price=false\"}\n",
        "\n",
        "print(s)"
      ],
      "metadata": {
        "colab": {
          "base_uri": "https://localhost:8080/"
        },
        "id": "ZiLP1VeGPKuf",
        "outputId": "3000f6e7-1da3-4972-9c16-01d771787684"
      },
      "execution_count": null,
      "outputs": [
        {
          "output_type": "stream",
          "name": "stdout",
          "text": [
            "<requests.sessions.Session object at 0x7f47ca92ff10>\n"
          ]
        }
      ]
    },
    {
      "cell_type": "code",
      "source": [
        "df = pd.DataFrame(columns = ['titulo' , 'preco', 'horas'])\n",
        "for page_counter in range(1, 5):\n",
        "    data = s.get('https://www.udemy.com/api-2.0/search-courses/?p={}&q=python'.format(page_counter), cookies=cookies, headers=headers).json()\n",
        "    for course in data['courses']:\n",
        "        params = {'course_ids': [str(course['id']),],\n",
        "              'fields/[pricing_result/]': ['price',]}\n",
        "        title = course['title']\n",
        "        hours = course['hrs_of_content_f']\n",
        "        price = s.get('https://www.udemy.com/api-2.0/pricing/', params=params, cookies=cookies).json()['courses'][str(course['id'])]['price']['amount']\n",
        "        #print({'title': title, 'price': price})\n",
        "        df=df.append({'titulo' : title, 'preco' : price, 'horas': hours} , ignore_index=True)\n",
        "df.head()"
      ],
      "metadata": {
        "id": "G7C5FyP0XW0t",
        "colab": {
          "base_uri": "https://localhost:8080/",
          "height": 206
        },
        "outputId": "df0d79a2-24de-419d-cb00-971b4411e03a"
      },
      "execution_count": null,
      "outputs": [
        {
          "output_type": "execute_result",
          "data": {
            "text/plain": [
              "                                              titulo  preco    horas\n",
              "0  100 Days of Code: The Complete Python Pro Boot...  14.99   64.047\n",
              "1  2022 Complete Python Bootcamp From Zero to Her...  14.99  22.2222\n",
              "2  Complete Python Developer in 2022: Zero to Mas...  14.99  30.7596\n",
              "3               Learn Python Programming Masterclass  14.99  70.6302\n",
              "4  Python for Data Science and Machine Learning B...  14.99  24.9106"
            ],
            "text/html": [
              "\n",
              "  <div id=\"df-e3c43772-5d82-4623-a442-47384b2d80c1\">\n",
              "    <div class=\"colab-df-container\">\n",
              "      <div>\n",
              "<style scoped>\n",
              "    .dataframe tbody tr th:only-of-type {\n",
              "        vertical-align: middle;\n",
              "    }\n",
              "\n",
              "    .dataframe tbody tr th {\n",
              "        vertical-align: top;\n",
              "    }\n",
              "\n",
              "    .dataframe thead th {\n",
              "        text-align: right;\n",
              "    }\n",
              "</style>\n",
              "<table border=\"1\" class=\"dataframe\">\n",
              "  <thead>\n",
              "    <tr style=\"text-align: right;\">\n",
              "      <th></th>\n",
              "      <th>titulo</th>\n",
              "      <th>preco</th>\n",
              "      <th>horas</th>\n",
              "    </tr>\n",
              "  </thead>\n",
              "  <tbody>\n",
              "    <tr>\n",
              "      <th>0</th>\n",
              "      <td>100 Days of Code: The Complete Python Pro Boot...</td>\n",
              "      <td>14.99</td>\n",
              "      <td>64.047</td>\n",
              "    </tr>\n",
              "    <tr>\n",
              "      <th>1</th>\n",
              "      <td>2022 Complete Python Bootcamp From Zero to Her...</td>\n",
              "      <td>14.99</td>\n",
              "      <td>22.2222</td>\n",
              "    </tr>\n",
              "    <tr>\n",
              "      <th>2</th>\n",
              "      <td>Complete Python Developer in 2022: Zero to Mas...</td>\n",
              "      <td>14.99</td>\n",
              "      <td>30.7596</td>\n",
              "    </tr>\n",
              "    <tr>\n",
              "      <th>3</th>\n",
              "      <td>Learn Python Programming Masterclass</td>\n",
              "      <td>14.99</td>\n",
              "      <td>70.6302</td>\n",
              "    </tr>\n",
              "    <tr>\n",
              "      <th>4</th>\n",
              "      <td>Python for Data Science and Machine Learning B...</td>\n",
              "      <td>14.99</td>\n",
              "      <td>24.9106</td>\n",
              "    </tr>\n",
              "  </tbody>\n",
              "</table>\n",
              "</div>\n",
              "      <button class=\"colab-df-convert\" onclick=\"convertToInteractive('df-e3c43772-5d82-4623-a442-47384b2d80c1')\"\n",
              "              title=\"Convert this dataframe to an interactive table.\"\n",
              "              style=\"display:none;\">\n",
              "        \n",
              "  <svg xmlns=\"http://www.w3.org/2000/svg\" height=\"24px\"viewBox=\"0 0 24 24\"\n",
              "       width=\"24px\">\n",
              "    <path d=\"M0 0h24v24H0V0z\" fill=\"none\"/>\n",
              "    <path d=\"M18.56 5.44l.94 2.06.94-2.06 2.06-.94-2.06-.94-.94-2.06-.94 2.06-2.06.94zm-11 1L8.5 8.5l.94-2.06 2.06-.94-2.06-.94L8.5 2.5l-.94 2.06-2.06.94zm10 10l.94 2.06.94-2.06 2.06-.94-2.06-.94-.94-2.06-.94 2.06-2.06.94z\"/><path d=\"M17.41 7.96l-1.37-1.37c-.4-.4-.92-.59-1.43-.59-.52 0-1.04.2-1.43.59L10.3 9.45l-7.72 7.72c-.78.78-.78 2.05 0 2.83L4 21.41c.39.39.9.59 1.41.59.51 0 1.02-.2 1.41-.59l7.78-7.78 2.81-2.81c.8-.78.8-2.07 0-2.86zM5.41 20L4 18.59l7.72-7.72 1.47 1.35L5.41 20z\"/>\n",
              "  </svg>\n",
              "      </button>\n",
              "      \n",
              "  <style>\n",
              "    .colab-df-container {\n",
              "      display:flex;\n",
              "      flex-wrap:wrap;\n",
              "      gap: 12px;\n",
              "    }\n",
              "\n",
              "    .colab-df-convert {\n",
              "      background-color: #E8F0FE;\n",
              "      border: none;\n",
              "      border-radius: 50%;\n",
              "      cursor: pointer;\n",
              "      display: none;\n",
              "      fill: #1967D2;\n",
              "      height: 32px;\n",
              "      padding: 0 0 0 0;\n",
              "      width: 32px;\n",
              "    }\n",
              "\n",
              "    .colab-df-convert:hover {\n",
              "      background-color: #E2EBFA;\n",
              "      box-shadow: 0px 1px 2px rgba(60, 64, 67, 0.3), 0px 1px 3px 1px rgba(60, 64, 67, 0.15);\n",
              "      fill: #174EA6;\n",
              "    }\n",
              "\n",
              "    [theme=dark] .colab-df-convert {\n",
              "      background-color: #3B4455;\n",
              "      fill: #D2E3FC;\n",
              "    }\n",
              "\n",
              "    [theme=dark] .colab-df-convert:hover {\n",
              "      background-color: #434B5C;\n",
              "      box-shadow: 0px 1px 3px 1px rgba(0, 0, 0, 0.15);\n",
              "      filter: drop-shadow(0px 1px 2px rgba(0, 0, 0, 0.3));\n",
              "      fill: #FFFFFF;\n",
              "    }\n",
              "  </style>\n",
              "\n",
              "      <script>\n",
              "        const buttonEl =\n",
              "          document.querySelector('#df-e3c43772-5d82-4623-a442-47384b2d80c1 button.colab-df-convert');\n",
              "        buttonEl.style.display =\n",
              "          google.colab.kernel.accessAllowed ? 'block' : 'none';\n",
              "\n",
              "        async function convertToInteractive(key) {\n",
              "          const element = document.querySelector('#df-e3c43772-5d82-4623-a442-47384b2d80c1');\n",
              "          const dataTable =\n",
              "            await google.colab.kernel.invokeFunction('convertToInteractive',\n",
              "                                                     [key], {});\n",
              "          if (!dataTable) return;\n",
              "\n",
              "          const docLinkHtml = 'Like what you see? Visit the ' +\n",
              "            '<a target=\"_blank\" href=https://colab.research.google.com/notebooks/data_table.ipynb>data table notebook</a>'\n",
              "            + ' to learn more about interactive tables.';\n",
              "          element.innerHTML = '';\n",
              "          dataTable['output_type'] = 'display_data';\n",
              "          await google.colab.output.renderOutput(dataTable, element);\n",
              "          const docLink = document.createElement('div');\n",
              "          docLink.innerHTML = docLinkHtml;\n",
              "          element.appendChild(docLink);\n",
              "        }\n",
              "      </script>\n",
              "    </div>\n",
              "  </div>\n",
              "  "
            ]
          },
          "metadata": {},
          "execution_count": 17
        }
      ]
    },
    {
      "cell_type": "code",
      "source": [
        "#converter o df para csv\n",
        "dataHora = datetime.now().strftime('%Y%m%d%H%M')\n",
        "df.to_csv(f\"coleta{dataHora}.csv\",index=False)"
      ],
      "metadata": {
        "id": "WqMlrGm6gbXv"
      },
      "execution_count": null,
      "outputs": []
    },
    {
      "cell_type": "code",
      "source": [
        ""
      ],
      "metadata": {
        "id": "pr1vLspMBxlI"
      },
      "execution_count": null,
      "outputs": []
    }
  ]
}