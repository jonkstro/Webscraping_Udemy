{
  "nbformat": 4,
  "nbformat_minor": 0,
  "metadata": {
    "colab": {
      "name": "WebscrapingDigimon.ipynb",
      "provenance": [],
      "collapsed_sections": [],
      "mount_file_id": "1bKnpZ6cNrYaf2_xrGI_UIyXjoA_UybHK",
      "authorship_tag": "ABX9TyPK3PJ9+1qeHt6fsLZkuALH",
      "include_colab_link": true
    },
    "kernelspec": {
      "name": "python3",
      "display_name": "Python 3"
    },
    "language_info": {
      "name": "python"
    }
  },
  "cells": [
    {
      "cell_type": "markdown",
      "metadata": {
        "id": "view-in-github",
        "colab_type": "text"
      },
      "source": [
        "<a href=\"https://colab.research.google.com/github/jonkstro/Webscraping_Udemy/blob/main/WebscrapingDigimon.ipynb\" target=\"_parent\"><img src=\"https://colab.research.google.com/assets/colab-badge.svg\" alt=\"Open In Colab\"/></a>"
      ]
    },
    {
      "cell_type": "code",
      "source": [
        "cd /content/drive/MyDrive/Colab Notebooks/webscraping_digimon"
      ],
      "metadata": {
        "colab": {
          "base_uri": "https://localhost:8080/"
        },
        "id": "jfC3-75rQ_B0",
        "outputId": "150251d1-fe4d-417b-9887-f5571f8ce807"
      },
      "execution_count": null,
      "outputs": [
        {
          "output_type": "stream",
          "name": "stdout",
          "text": [
            "/content/drive/MyDrive/Colab Notebooks/webscraping_digimon\n"
          ]
        }
      ]
    },
    {
      "cell_type": "code",
      "execution_count": null,
      "metadata": {
        "id": "Kx6yFlJR7ZSB"
      },
      "outputs": [],
      "source": [
        "from bs4 import BeautifulSoup\n",
        "import requests\n",
        "import time\n",
        "import random\n",
        "import pandas as pd\n",
        "from datetime import datetime"
      ]
    },
    {
      "cell_type": "code",
      "source": [
        "url = 'https://digidb.io/digimon-list/'\n",
        "\n",
        "pagina = requests.get(url)\n",
        "print(pagina)"
      ],
      "metadata": {
        "colab": {
          "base_uri": "https://localhost:8080/"
        },
        "id": "I1RWLlsY7ywZ",
        "outputId": "06311f4f-a329-4c02-c4a7-be61dce13739"
      },
      "execution_count": null,
      "outputs": [
        {
          "output_type": "stream",
          "name": "stdout",
          "text": [
            "<Response [200]>\n"
          ]
        }
      ]
    },
    {
      "cell_type": "code",
      "source": [
        "pagina = BeautifulSoup(pagina.content, 'html.parser')\n",
        "\n",
        "print(type(pagina))"
      ],
      "metadata": {
        "colab": {
          "base_uri": "https://localhost:8080/"
        },
        "id": "A4Sv5TOt8Ea-",
        "outputId": "6ee39ea9-6569-4a54-e1f9-30b27abc808e"
      },
      "execution_count": null,
      "outputs": [
        {
          "output_type": "stream",
          "name": "stdout",
          "text": [
            "<class 'bs4.BeautifulSoup'>\n"
          ]
        }
      ]
    },
    {
      "cell_type": "code",
      "source": [
        "rows = pagina.find_all('tr', class_='')\n",
        "for td in rows:\n",
        "  digimon_data = td.find_all('td')\n",
        "  id = digimon_data[0].get_text() \n",
        "  img = digimon_data[1].find_all()[0]['src']\n",
        "  digimon = digimon_data[1].get_text()\n",
        "  estagio = digimon_data[2].get_text()\n",
        "  tipo = digimon_data[3].get_text()\n",
        "  atributo = digimon_data[4].get_text()\n",
        "  memoria = digimon_data[5].get_text()\n",
        "  slot = digimon_data[6].get_text()\n",
        "  hp = digimon_data[7].get_text()\n",
        "  sp = digimon_data[8].get_text()\n",
        "  atk = digimon_data[9].get_text()\n",
        "  defesa = digimon_data[10].get_text()\n",
        "  intel = digimon_data[11].get_text()\n",
        "  spd = digimon_data[12].get_text()\n",
        "  \n",
        "  # print(id, img, digimon, estagio, tipo, atributo, memoria, slot, hp, sp, atk, defesa, intel, spd)  \n",
        "  # adicionar no dataframe:\n",
        "  df = df.append({'ID': id, \n",
        "                   'IMAGEM': img, \n",
        "                   'DIGIMON': digimon, \n",
        "                   'ESTAGIO': estagio, \n",
        "                   'TIPO': tipo, \n",
        "                   'ATRIBUTO': atributo, \n",
        "                   'MEMORIA': memoria, \n",
        "                   'SLOT': slot, \n",
        "                   'HP': hp, \n",
        "                   'SP': sp, \n",
        "                   'ATAQUE': atk,\n",
        "                   'DEFESA': defesa, \n",
        "                   'INTELIGENCIA': intel, \n",
        "                   'VELOCIDADE': spd}, ignore_index=True)\n",
        "\n",
        "# df.head()\n",
        "df.to_csv(\"tabela_digimons.csv\",index=False)\n",
        "print(\"=\"*15 + \" | COLETA FINALIZADA | \" + \"=\"*15)"
      ],
      "metadata": {
        "colab": {
          "base_uri": "https://localhost:8080/"
        },
        "id": "fPwEM7xM8VLp",
        "outputId": "a44f697e-0d6d-4ad7-8121-bb2268fda3c6"
      },
      "execution_count": null,
      "outputs": [
        {
          "output_type": "stream",
          "name": "stdout",
          "text": [
            "=============== | COLETA FINALIZADA | ===============\n"
          ]
        }
      ]
    },
    {
      "cell_type": "code",
      "source": [
        "df.tail()"
      ],
      "metadata": {
        "colab": {
          "base_uri": "https://localhost:8080/",
          "height": 285
        },
        "id": "Ktcw8kyIRNED",
        "outputId": "b56fb4ad-ce1f-4db9-80bb-0acebfa76de4"
      },
      "execution_count": null,
      "outputs": [
        {
          "output_type": "execute_result",
          "data": {
            "text/plain": [
              "       ID                                   IMAGEM           DIGIMON ESTAGIO  \\\n",
              "386   337  https://digidb.io/images/dot/dot901.png       Alphamon NX    Mega   \n",
              "387   338  https://digidb.io/images/dot/dot902.png    Crusadermon NX    Mega   \n",
              "388   339  https://digidb.io/images/dot/dot903.png     Leopardmon NX    Mega   \n",
              "389   340  https://digidb.io/images/dot/dot904.png        Omnimon NX    Mega   \n",
              "390   341  https://digidb.io/images/dot/dot905.png     Gallantmon NX    Mega   \n",
              "\n",
              "        TIPO ATRIBUTO MEMORIA SLOT    HP   SP ATAQUE DEFESA INTELIGENCIA  \\\n",
              "386  Vaccine  Neutral       6    1   980  104    109    114          109   \n",
              "387    Virus     Dark       6    1  1030  100    118     99          109   \n",
              "388     Data    Light       6    1   960  109    112     91          116   \n",
              "389  Vaccine    Light       6    1  1010   98    116    111          111   \n",
              "390    Virus    Light       6    1  1070   93    122    109          111   \n",
              "\n",
              "    VELOCIDADE  \n",
              "386        116  \n",
              "387        121  \n",
              "388        126  \n",
              "389        113  \n",
              "390        108  "
            ],
            "text/html": [
              "\n",
              "  <div id=\"df-2d3cd42b-dd50-4d8c-b368-45016e31ab2a\">\n",
              "    <div class=\"colab-df-container\">\n",
              "      <div>\n",
              "<style scoped>\n",
              "    .dataframe tbody tr th:only-of-type {\n",
              "        vertical-align: middle;\n",
              "    }\n",
              "\n",
              "    .dataframe tbody tr th {\n",
              "        vertical-align: top;\n",
              "    }\n",
              "\n",
              "    .dataframe thead th {\n",
              "        text-align: right;\n",
              "    }\n",
              "</style>\n",
              "<table border=\"1\" class=\"dataframe\">\n",
              "  <thead>\n",
              "    <tr style=\"text-align: right;\">\n",
              "      <th></th>\n",
              "      <th>ID</th>\n",
              "      <th>IMAGEM</th>\n",
              "      <th>DIGIMON</th>\n",
              "      <th>ESTAGIO</th>\n",
              "      <th>TIPO</th>\n",
              "      <th>ATRIBUTO</th>\n",
              "      <th>MEMORIA</th>\n",
              "      <th>SLOT</th>\n",
              "      <th>HP</th>\n",
              "      <th>SP</th>\n",
              "      <th>ATAQUE</th>\n",
              "      <th>DEFESA</th>\n",
              "      <th>INTELIGENCIA</th>\n",
              "      <th>VELOCIDADE</th>\n",
              "    </tr>\n",
              "  </thead>\n",
              "  <tbody>\n",
              "    <tr>\n",
              "      <th>386</th>\n",
              "      <td>337</td>\n",
              "      <td>https://digidb.io/images/dot/dot901.png</td>\n",
              "      <td>Alphamon NX</td>\n",
              "      <td>Mega</td>\n",
              "      <td>Vaccine</td>\n",
              "      <td>Neutral</td>\n",
              "      <td>6</td>\n",
              "      <td>1</td>\n",
              "      <td>980</td>\n",
              "      <td>104</td>\n",
              "      <td>109</td>\n",
              "      <td>114</td>\n",
              "      <td>109</td>\n",
              "      <td>116</td>\n",
              "    </tr>\n",
              "    <tr>\n",
              "      <th>387</th>\n",
              "      <td>338</td>\n",
              "      <td>https://digidb.io/images/dot/dot902.png</td>\n",
              "      <td>Crusadermon NX</td>\n",
              "      <td>Mega</td>\n",
              "      <td>Virus</td>\n",
              "      <td>Dark</td>\n",
              "      <td>6</td>\n",
              "      <td>1</td>\n",
              "      <td>1030</td>\n",
              "      <td>100</td>\n",
              "      <td>118</td>\n",
              "      <td>99</td>\n",
              "      <td>109</td>\n",
              "      <td>121</td>\n",
              "    </tr>\n",
              "    <tr>\n",
              "      <th>388</th>\n",
              "      <td>339</td>\n",
              "      <td>https://digidb.io/images/dot/dot903.png</td>\n",
              "      <td>Leopardmon NX</td>\n",
              "      <td>Mega</td>\n",
              "      <td>Data</td>\n",
              "      <td>Light</td>\n",
              "      <td>6</td>\n",
              "      <td>1</td>\n",
              "      <td>960</td>\n",
              "      <td>109</td>\n",
              "      <td>112</td>\n",
              "      <td>91</td>\n",
              "      <td>116</td>\n",
              "      <td>126</td>\n",
              "    </tr>\n",
              "    <tr>\n",
              "      <th>389</th>\n",
              "      <td>340</td>\n",
              "      <td>https://digidb.io/images/dot/dot904.png</td>\n",
              "      <td>Omnimon NX</td>\n",
              "      <td>Mega</td>\n",
              "      <td>Vaccine</td>\n",
              "      <td>Light</td>\n",
              "      <td>6</td>\n",
              "      <td>1</td>\n",
              "      <td>1010</td>\n",
              "      <td>98</td>\n",
              "      <td>116</td>\n",
              "      <td>111</td>\n",
              "      <td>111</td>\n",
              "      <td>113</td>\n",
              "    </tr>\n",
              "    <tr>\n",
              "      <th>390</th>\n",
              "      <td>341</td>\n",
              "      <td>https://digidb.io/images/dot/dot905.png</td>\n",
              "      <td>Gallantmon NX</td>\n",
              "      <td>Mega</td>\n",
              "      <td>Virus</td>\n",
              "      <td>Light</td>\n",
              "      <td>6</td>\n",
              "      <td>1</td>\n",
              "      <td>1070</td>\n",
              "      <td>93</td>\n",
              "      <td>122</td>\n",
              "      <td>109</td>\n",
              "      <td>111</td>\n",
              "      <td>108</td>\n",
              "    </tr>\n",
              "  </tbody>\n",
              "</table>\n",
              "</div>\n",
              "      <button class=\"colab-df-convert\" onclick=\"convertToInteractive('df-2d3cd42b-dd50-4d8c-b368-45016e31ab2a')\"\n",
              "              title=\"Convert this dataframe to an interactive table.\"\n",
              "              style=\"display:none;\">\n",
              "        \n",
              "  <svg xmlns=\"http://www.w3.org/2000/svg\" height=\"24px\"viewBox=\"0 0 24 24\"\n",
              "       width=\"24px\">\n",
              "    <path d=\"M0 0h24v24H0V0z\" fill=\"none\"/>\n",
              "    <path d=\"M18.56 5.44l.94 2.06.94-2.06 2.06-.94-2.06-.94-.94-2.06-.94 2.06-2.06.94zm-11 1L8.5 8.5l.94-2.06 2.06-.94-2.06-.94L8.5 2.5l-.94 2.06-2.06.94zm10 10l.94 2.06.94-2.06 2.06-.94-2.06-.94-.94-2.06-.94 2.06-2.06.94z\"/><path d=\"M17.41 7.96l-1.37-1.37c-.4-.4-.92-.59-1.43-.59-.52 0-1.04.2-1.43.59L10.3 9.45l-7.72 7.72c-.78.78-.78 2.05 0 2.83L4 21.41c.39.39.9.59 1.41.59.51 0 1.02-.2 1.41-.59l7.78-7.78 2.81-2.81c.8-.78.8-2.07 0-2.86zM5.41 20L4 18.59l7.72-7.72 1.47 1.35L5.41 20z\"/>\n",
              "  </svg>\n",
              "      </button>\n",
              "      \n",
              "  <style>\n",
              "    .colab-df-container {\n",
              "      display:flex;\n",
              "      flex-wrap:wrap;\n",
              "      gap: 12px;\n",
              "    }\n",
              "\n",
              "    .colab-df-convert {\n",
              "      background-color: #E8F0FE;\n",
              "      border: none;\n",
              "      border-radius: 50%;\n",
              "      cursor: pointer;\n",
              "      display: none;\n",
              "      fill: #1967D2;\n",
              "      height: 32px;\n",
              "      padding: 0 0 0 0;\n",
              "      width: 32px;\n",
              "    }\n",
              "\n",
              "    .colab-df-convert:hover {\n",
              "      background-color: #E2EBFA;\n",
              "      box-shadow: 0px 1px 2px rgba(60, 64, 67, 0.3), 0px 1px 3px 1px rgba(60, 64, 67, 0.15);\n",
              "      fill: #174EA6;\n",
              "    }\n",
              "\n",
              "    [theme=dark] .colab-df-convert {\n",
              "      background-color: #3B4455;\n",
              "      fill: #D2E3FC;\n",
              "    }\n",
              "\n",
              "    [theme=dark] .colab-df-convert:hover {\n",
              "      background-color: #434B5C;\n",
              "      box-shadow: 0px 1px 3px 1px rgba(0, 0, 0, 0.15);\n",
              "      filter: drop-shadow(0px 1px 2px rgba(0, 0, 0, 0.3));\n",
              "      fill: #FFFFFF;\n",
              "    }\n",
              "  </style>\n",
              "\n",
              "      <script>\n",
              "        const buttonEl =\n",
              "          document.querySelector('#df-2d3cd42b-dd50-4d8c-b368-45016e31ab2a button.colab-df-convert');\n",
              "        buttonEl.style.display =\n",
              "          google.colab.kernel.accessAllowed ? 'block' : 'none';\n",
              "\n",
              "        async function convertToInteractive(key) {\n",
              "          const element = document.querySelector('#df-2d3cd42b-dd50-4d8c-b368-45016e31ab2a');\n",
              "          const dataTable =\n",
              "            await google.colab.kernel.invokeFunction('convertToInteractive',\n",
              "                                                     [key], {});\n",
              "          if (!dataTable) return;\n",
              "\n",
              "          const docLinkHtml = 'Like what you see? Visit the ' +\n",
              "            '<a target=\"_blank\" href=https://colab.research.google.com/notebooks/data_table.ipynb>data table notebook</a>'\n",
              "            + ' to learn more about interactive tables.';\n",
              "          element.innerHTML = '';\n",
              "          dataTable['output_type'] = 'display_data';\n",
              "          await google.colab.output.renderOutput(dataTable, element);\n",
              "          const docLink = document.createElement('div');\n",
              "          docLink.innerHTML = docLinkHtml;\n",
              "          element.appendChild(docLink);\n",
              "        }\n",
              "      </script>\n",
              "    </div>\n",
              "  </div>\n",
              "  "
            ]
          },
          "metadata": {},
          "execution_count": 249
        }
      ]
    }
  ]
}